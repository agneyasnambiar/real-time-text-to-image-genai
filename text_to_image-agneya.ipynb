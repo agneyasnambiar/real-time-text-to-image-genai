{
 "cells": [
  {
   "cell_type": "code",
   "execution_count": 1,
   "id": "4bdc41f4-032e-40ce-87ef-8a0cad30dd3c",
   "metadata": {},
   "outputs": [],
   "source": [
    "import os\n",
    "import csv\n",
    "from PIL import Image"
   ]
  },
  {
   "cell_type": "code",
   "execution_count": 2,
   "id": "05a57c34-d551-4bd2-a87b-7ac3928207d2",
   "metadata": {},
   "outputs": [],
   "source": [
    "dataset_dir = \"dataset\"\n",
    "images_dir = os.path.join(dataset_dir, \"images\")\n",
    "os.makedirs(images_dir, exist_ok=True)"
   ]
  },
  {
   "cell_type": "code",
   "execution_count": 3,
   "id": "b1f61c52-dab4-4eb4-8b13-e3a70e046401",
   "metadata": {},
   "outputs": [],
   "source": [
    "img_names = [\"img1.jpg\", \"img2.jpg\", \"medical_scan_01.jpg\"]\n",
    "colors = [(255, 0, 0), (0, 255, 0), (0, 0, 255)]  # Red, Green, Blue\n",
    "\n",
    "for name, color in zip(img_names, colors):\n",
    "    img = Image.new(\"RGB\", (512, 512), color)\n",
    "    img.save(os.path.join(images_dir, name))"
   ]
  },
  {
   "cell_type": "code",
   "execution_count": 4,
   "id": "477848ee-f788-4cea-a3e3-413988e67cff",
   "metadata": {},
   "outputs": [
    {
     "name": "stdout",
     "output_type": "stream",
     "text": [
      "Dataset prepared!\n"
     ]
    }
   ],
   "source": [
    "captions = [\n",
    "    (\"img1.jpg\", \"A red flower in a green field\"),\n",
    "    (\"img2.jpg\", \"A futuristic medical scanner in a lab\"),\n",
    "    (\"medical_scan_01.jpg\", \"High-resolution MRI scan showing brain activity\"),\n",
    "]\n",
    "csv_path = os.path.join(dataset_dir, \"captions.csv\")\n",
    "with open(csv_path, \"w\", newline=\"\") as f:\n",
    "    writer = csv.writer(f)\n",
    "    writer.writerow([\"file_name\", \"text\"])\n",
    "    writer.writerows(captions)\n",
    "\n",
    "print(\"Dataset prepared!\")"
   ]
  },
  {
   "cell_type": "code",
   "execution_count": 5,
   "id": "17d54952-16aa-400f-9988-526f97849350",
   "metadata": {},
   "outputs": [],
   "source": [
    "import torch\n",
    "import numpy as np\n",
    "import pandas as pd"
   ]
  },
  {
   "cell_type": "code",
   "execution_count": 6,
   "id": "75dfef16-f7a7-427e-b228-8dd4d952ad1b",
   "metadata": {},
   "outputs": [],
   "source": [
    "from torch.utils.data import Dataset, DataLoader\n",
    "from transformers import CLIPTokenizer, CLIPTextModel\n",
    "from diffusers import AutoencoderKL, UNet2DConditionModel, StableDiffusionPipeline, DDIMScheduler"
   ]
  },
  {
   "cell_type": "code",
   "execution_count": 7,
   "id": "f9d519a8-feda-4c46-b480-c554c45d24c6",
   "metadata": {},
   "outputs": [],
   "source": [
    "from accelerate import Accelerator\n",
    "from tqdm import tqdm"
   ]
  },
  {
   "cell_type": "code",
   "execution_count": 8,
   "id": "435700a5-cc7d-439b-95e4-e358a628b726",
   "metadata": {},
   "outputs": [],
   "source": [
    "class CustomImageDataset(Dataset):\n",
    "    def __init__(self, images_dir, captions_file, tokenizer, size=512):\n",
    "        self.images_dir = images_dir\n",
    "        self.data = pd.read_csv(captions_file)\n",
    "        self.tokenizer = tokenizer\n",
    "        self.size = size\n",
    "\n",
    "    def __len__(self):\n",
    "        return len(self.data)\n",
    "\n",
    "    def __getitem__(self, idx):\n",
    "        row = self.data.iloc[idx]\n",
    "        image_path = os.path.join(self.images_dir, row['file_name'])\n",
    "        image = Image.open(image_path).convert(\"RGB\").resize((self.size, self.size))\n",
    "        image = torch.tensor(np.array(image)).permute(2, 0, 1).float() / 255.0\n",
    "\n",
    "        inputs = self.tokenizer(\n",
    "            row['text'],\n",
    "            truncation=True,\n",
    "            padding=\"max_length\",\n",
    "            max_length=self.tokenizer.model_max_length,\n",
    "            return_tensors=\"pt\"\n",
    "        )\n",
    "\n",
    "        return {\n",
    "            \"pixel_values\": image,\n",
    "            \"input_ids\": inputs.input_ids.squeeze(0)\n",
    "        }"
   ]
  },
  {
   "cell_type": "code",
   "execution_count": 9,
   "id": "53b4ec18-489d-43aa-9878-c5dda8d20e66",
   "metadata": {},
   "outputs": [
    {
     "data": {
      "text/plain": [
       "<torch._C.Generator at 0x2929d81fb30>"
      ]
     },
     "execution_count": 9,
     "metadata": {},
     "output_type": "execute_result"
    }
   ],
   "source": [
    "PRETRAINED_MODEL_NAME = \"CompVis/stable-diffusion-v1-4\"\n",
    "DEVICE = \"cuda\" if torch.cuda.is_available() else \"cpu\"\n",
    "SEED = 42\n",
    "torch.manual_seed(SEED)"
   ]
  },
  {
   "cell_type": "code",
   "execution_count": 10,
   "id": "29e65ee7-d9b2-43d2-8992-43faa749e9c8",
   "metadata": {},
   "outputs": [],
   "source": [
    "tokenizer = CLIPTokenizer.from_pretrained(PRETRAINED_MODEL_NAME, subfolder=\"tokenizer\")\n",
    "text_encoder = CLIPTextModel.from_pretrained(PRETRAINED_MODEL_NAME, subfolder=\"text_encoder\").to(DEVICE)\n",
    "vae = AutoencoderKL.from_pretrained(PRETRAINED_MODEL_NAME, subfolder=\"vae\").to(DEVICE)\n",
    "unet = UNet2DConditionModel.from_pretrained(PRETRAINED_MODEL_NAME, subfolder=\"unet\").to(DEVICE)\n",
    "\n",
    "for param in vae.parameters():\n",
    "    param.requires_grad = False\n",
    "for param in text_encoder.parameters():\n",
    "    param.requires_grad = False\n",
    "\n",
    "dataset = CustomImageDataset(\n",
    "    images_dir=images_dir,\n",
    "    captions_file=csv_path,\n",
    "    tokenizer=tokenizer\n",
    ")\n",
    "dataloader = DataLoader(dataset, batch_size=2, shuffle=True)\n"
   ]
  },
  {
   "cell_type": "code",
   "execution_count": 11,
   "id": "2e44c8bd-a9f3-4e14-bae2-085cb5bd456d",
   "metadata": {},
   "outputs": [],
   "source": [
    "# Optimizer and training setup\n",
    "optimizer = torch.optim.AdamW(unet.parameters(), lr=5e-6)\n",
    "accelerator = Accelerator()\n",
    "unet, optimizer, dataloader = accelerator.prepare(unet, optimizer, dataloader)\n",
    "\n",
    "noise_scheduler = DDIMScheduler(\n",
    "    beta_start=0.00085, beta_end=0.012, beta_schedule=\"scaled_linear\", num_train_timesteps=1000\n",
    ")"
   ]
  },
  {
   "cell_type": "code",
   "execution_count": 12,
   "id": "b8dea517-05cf-4b8c-be8c-5923e8b76001",
   "metadata": {},
   "outputs": [],
   "source": [
    "EPOCHS = 2\n",
    "LEARNING_RATE = 5e-6\n",
    "MAX_TRAIN_STEPS = 100\n",
    "optimizer = torch.optim.AdamW(unet.parameters(), lr=LEARNING_RATE)\n",
    "accelerator = Accelerator()\n",
    "unet, optimizer, dataloader = accelerator.prepare(unet, optimizer, dataloader)\n",
    "\n",
    "noise_scheduler = DDIMScheduler(\n",
    "    beta_start=0.00085, beta_end=0.012, beta_schedule=\"scaled_linear\", num_train_timesteps=1000\n",
    ")"
   ]
  },
  {
   "cell_type": "code",
   "execution_count": 13,
   "id": "8fc0a88d-1bc4-405b-887a-cba9da28f266",
   "metadata": {},
   "outputs": [
    {
     "name": "stdout",
     "output_type": "stream",
     "text": [
      "Starting training...\n"
     ]
    },
    {
     "name": "stderr",
     "output_type": "stream",
     "text": [
      "Epoch 1:  50%|█████████████████████████████████████                                     | 1/2 [04:09<04:09, 249.63s/it]"
     ]
    },
    {
     "name": "stdout",
     "output_type": "stream",
     "text": [
      "Step 0 | Loss: 0.0043\n"
     ]
    },
    {
     "name": "stderr",
     "output_type": "stream",
     "text": [
      "Epoch 1: 100%|██████████████████████████████████████████████████████████████████████████| 2/2 [07:37<00:00, 228.65s/it]\n"
     ]
    }
   ],
   "source": [
    "print(\"Starting training...\")\n",
    "step = 0\n",
    "MAX_TRAIN_STEPS = 10\n",
    "\n",
    "for epoch in range(1):\n",
    "    for batch in tqdm(dataloader, desc=f\"Epoch {epoch+1}\"):\n",
    "        pixel_values = batch[\"pixel_values\"].to(DEVICE)\n",
    "        input_ids = batch[\"input_ids\"].to(DEVICE)\n",
    "\n",
    "        with torch.no_grad():\n",
    "            encoder_hidden_states = text_encoder(input_ids)[0]\n",
    "            latents = vae.encode(pixel_values).latent_dist.sample() * 0.18215\n",
    "\n",
    "        noise = torch.randn_like(latents)\n",
    "        timesteps = torch.randint(0, 1000, (latents.shape[0],), device=DEVICE).long()\n",
    "        noisy_latents = noise_scheduler.add_noise(latents, noise, timesteps)\n",
    "\n",
    "        noise_pred = unet(noisy_latents, timesteps, encoder_hidden_states).sample\n",
    "        loss = torch.nn.functional.mse_loss(noise_pred, noise)\n",
    "\n",
    "        optimizer.zero_grad()\n",
    "        accelerator.backward(loss)\n",
    "        optimizer.step()\n",
    "\n",
    "        if step % 5 == 0:\n",
    "            print(f\"Step {step} | Loss: {loss.item():.4f}\")\n",
    "\n",
    "        step += 1\n",
    "        torch.cuda.empty_cache()\n",
    "\n",
    "        if step >= MAX_TRAIN_STEPS:\n",
    "            break\n",
    "\n",
    "    if step >= MAX_TRAIN_STEPS:\n",
    "        print(\"\\n Training complete.\")\n",
    "        break\n"
   ]
  },
  {
   "cell_type": "code",
   "execution_count": 14,
   "id": "e6df7daa-859d-433e-bdd5-8c914a393657",
   "metadata": {},
   "outputs": [
    {
     "name": "stdout",
     "output_type": "stream",
     "text": [
      "\n",
      " Model saved to: sd-custom-output\n"
     ]
    }
   ],
   "source": [
    "# Save model\n",
    "OUTPUT_DIR = \"sd-custom-output\"\n",
    "if accelerator.is_main_process:\n",
    "    os.makedirs(OUTPUT_DIR, exist_ok=True)\n",
    "    unet.save_pretrained(os.path.join(OUTPUT_DIR, \"unet\"))\n",
    "    vae.save_pretrained(os.path.join(OUTPUT_DIR, \"vae\"))\n",
    "    text_encoder.save_pretrained(os.path.join(OUTPUT_DIR, \"text_encoder\"))\n",
    "    tokenizer.save_pretrained(os.path.join(OUTPUT_DIR, \"tokenizer\"))\n",
    "    print(f\"\\n Model saved to: {OUTPUT_DIR}\")"
   ]
  },
  {
   "cell_type": "code",
   "execution_count": null,
   "id": "3b787467-b581-4a08-8328-241ca7c60194",
   "metadata": {},
   "outputs": [],
   "source": [
    "import os\n",
    "import torch\n",
    "from diffusers import StableDiffusionPipeline, UNet2DConditionModel, AutoencoderKL\n",
    "from transformers import CLIPTextModel, CLIPTokenizer\n",
    "\n",
    "OUTPUT_DIR = \"sd-custom-output\"\n",
    "DEVICE = \"cpu\"\n",
    "\n",
    "# Load components with reduced memory\n",
    "pipe = StableDiffusionPipeline.from_pretrained(\n",
    "    pretrained_model_name_or_path=OUTPUT_DIR,\n",
    "    unet=UNet2DConditionModel.from_pretrained(os.path.join(OUTPUT_DIR, \"unet\")),\n",
    "    vae=AutoencoderKL.from_pretrained(os.path.join(OUTPUT_DIR, \"vae\")),\n",
    "    text_encoder=CLIPTextModel.from_pretrained(os.path.join(OUTPUT_DIR, \"text_encoder\")),\n",
    "    tokenizer=CLIPTokenizer.from_pretrained(os.path.join(OUTPUT_DIR, \"tokenizer\")),\n",
    "    torch_dtype=torch.float32,\n",
    "    safety_checker=None,  # Disable safety checker to avoid extra load\n",
    "    low_cpu_mem_usage=True,\n",
    ")\n",
    "\n",
    "# Use attention slicing to reduce memory spikes\n",
    "pipe.enable_attention_slicing()\n",
    "pipe.enable_vae_tiling()\n",
    "pipe.enable_model_cpu_offload()  # Gradually moves parts to CPU when not used\n",
    "\n",
    "# Move to GPU only if available and safe\n",
    "pipe.to(DEVICE)\n",
    "\n",
    "# Generate image\n",
    "prompt = \"A futuristic medical scanner in a lab\"\n",
    "with torch.autocast(\"cuda\") if torch.cuda.is_available() else torch.no_grad():\n",
    "    image = pipe(prompt, guidance_scale=7.5).images[0]\n",
    "\n",
    "image.save(\"result_custom.png\")\n",
    "print(\"\\n Image saved as result_custom.png\")"
   ]
  },
  {
   "cell_type": "code",
   "execution_count": null,
   "id": "46f81946-9e1e-4765-934b-e3ed31004723",
   "metadata": {},
   "outputs": [],
   "source": [
    "#the above code is not working because its too large "
   ]
  },
  {
   "cell_type": "code",
   "execution_count": null,
   "id": "a3389563-bf3b-4e5e-99d1-5ea79aeb5315",
   "metadata": {},
   "outputs": [],
   "source": [
    "#Use torch_dtype=torch.float16 and device_map=\"auto\"\n",
    "#To reduce RAM/GPU usage:\n",
    "from diffusers import StableDiffusionPipeline\n",
    "\n",
    "pipe = StableDiffusionPipeline.from_pretrained(\n",
    "    \"path_or_output_folder\",\n",
    "    torch_dtype=torch.float16,\n",
    "    revision=\"fp16\",\n",
    "    safety_checker=None,\n",
    "    device_map=\"auto\"\n",
    ")\n"
   ]
  },
  {
   "cell_type": "code",
   "execution_count": null,
   "id": "811f274c-3065-469e-be14-f2ef0e2122a8",
   "metadata": {},
   "outputs": [],
   "source": [
    "print(\"🚀 Starting lightweight training...\")\n",
    "step = 0\n",
    "\n",
    "for epoch in range(EPOCHS):\n",
    "    for batch in tqdm(dataloader, desc=f\"Epoch {epoch+1}\"):\n",
    "        pixel_values = batch[\"pixel_values\"].to(DEVICE)\n",
    "        input_ids = batch[\"input_ids\"].to(DEVICE)\n",
    "\n",
    "        with torch.no_grad():\n",
    "            encoder_hidden_states = text_encoder(input_ids)[0]\n",
    "\n",
    "        with torch.no_grad():\n",
    "            latents = vae.encode(pixel_values).latent_dist.sample()\n",
    "        latents = 0.18215 * latents\n",
    "\n",
    "        noise = torch.randn_like(latents)\n",
    "        timesteps = torch.randint(0, 1000, (latents.shape[0],), device=DEVICE).long()\n",
    "        noisy_latents = noise_scheduler.add_noise(latents, noise, timesteps)\n",
    "\n",
    "        noise_pred = unet(noisy_latents, timesteps, encoder_hidden_states).sample\n",
    "\n",
    "        loss = torch.nn.functional.mse_loss(noise_pred, noise)\n",
    "\n",
    "        optimizer.zero_grad()\n",
    "        accelerator.backward(loss)\n",
    "        optimizer.step()\n",
    "\n",
    "        if step % 50 == 0:\n",
    "            print(f\"🧮 Step {step} | Loss: {loss.item():.4f}\")\n",
    "\n",
    "        step += 1\n",
    "        if step >= MAX_TRAIN_STEPS:\n",
    "            break\n",
    "\n",
    "    if step >= MAX_TRAIN_STEPS:\n",
    "        print(\"✅ Training stopped: Max steps reached.\")\n",
    "        break"
   ]
  },
  {
   "cell_type": "code",
   "execution_count": null,
   "id": "ae647c0f-80fd-45c7-80c8-b9645ea795da",
   "metadata": {},
   "outputs": [],
   "source": [
    "OUTPUT_DIR = \"sd-custom-output\"\n",
    "if accelerator.is_main_process:\n",
    "    os.makedirs(OUTPUT_DIR, exist_ok=True)\n",
    "    unet.save_pretrained(os.path.join(OUTPUT_DIR, \"unet\"))\n",
    "    vae.save_pretrained(os.path.join(OUTPUT_DIR, \"vae\"))\n",
    "    text_encoder.save_pretrained(os.path.join(OUTPUT_DIR, \"text_encoder\"))\n",
    "    tokenizer.save_pretrained(os.path.join(OUTPUT_DIR, \"tokenizer\"))\n",
    "    print(f\"Model saved to: {OUTPUT_DIR}\")"
   ]
  },
  {
   "cell_type": "code",
   "execution_count": null,
   "id": "c43b9ec7-f1cb-4e93-9574-bc1b01e1af50",
   "metadata": {},
   "outputs": [],
   "source": [
    "torch_dtype=torch.float16\n",
    "pipe = StableDiffusionPipeline.from_pretrained(\n",
    "    OUTPUT_DIR,\n",
    "    unet=UNet2DConditionModel.from_pretrained(os.path.join(OUTPUT_DIR, \"unet\")),\n",
    "    vae=AutoencoderKL.from_pretrained(os.path.join(OUTPUT_DIR, \"vae\")),\n",
    "    text_encoder=CLIPTextModel.from_pretrained(os.path.join(OUTPUT_DIR, \"text_encoder\")),\n",
    "    tokenizer=CLIPTokenizer.from_pretrained(os.path.join(OUTPUT_DIR, \"tokenizer\")),\n",
    "    torch_dtype=torch.float32,\n",
    "    low_cpu_mem_usage=True,\n",
    ").to(DEVICE)\n",
    "pipe.to(torch.device(\"cuda\"))\n",
    "pipe.half()\n",
    "from accelerate import init_empty_weights\n",
    "pipe = StableDiffusionPipeline.from_pretrained(\n",
    "    OUTPUT_DIR,\n",
    "    torch_dtype=torch.float16,\n",
    "    device_map=\"auto\"  # balances between CPU and GPU\n",
    ")"
   ]
  },
  {
   "cell_type": "code",
   "execution_count": null,
   "id": "4ff5312c-54bb-4358-9083-1f36611c7cf7",
   "metadata": {},
   "outputs": [],
   "source": [
    "pipe = StableDiffusionPipeline.from_pretrained(\n",
    "    OUTPUT_DIR,\n",
    "    torch_dtype=torch.float32,\n",
    "    safety_checker=None,\n",
    ").to(\"cpu\")\n",
    "\n",
    "pipe.enable_attention_slicing()  # Helps reduce memory usage\n",
    "\n",
    "prompt = \"A futuristic medical scanner in a lab\"\n",
    "image = pipe(prompt, guidance_scale=7.5).images[0]\n",
    "image.save(\"result_custom.png\")\n",
    "print(\" Image saved\")"
   ]
  },
  {
   "cell_type": "code",
   "execution_count": null,
   "id": "d9bcb0e2-82b4-498b-9549-a5b8492bc60a",
   "metadata": {},
   "outputs": [],
   "source": []
  }
 ],
 "metadata": {
  "kernelspec": {
   "display_name": "Python 3 (ipykernel)",
   "language": "python",
   "name": "python3"
  },
  "language_info": {
   "codemirror_mode": {
    "name": "ipython",
    "version": 3
   },
   "file_extension": ".py",
   "mimetype": "text/x-python",
   "name": "python",
   "nbconvert_exporter": "python",
   "pygments_lexer": "ipython3",
   "version": "3.12.7"
  }
 },
 "nbformat": 4,
 "nbformat_minor": 5
}
